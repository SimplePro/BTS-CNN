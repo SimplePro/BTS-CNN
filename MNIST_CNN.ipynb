{
 "cells": [
  {
   "cell_type": "code",
   "execution_count": 5,
   "metadata": {
    "scrolled": false
   },
   "outputs": [
    {
     "name": "stdout",
     "output_type": "stream",
     "text": [
      "60000 10000\n",
      "Model: \"sequential_2\"\n",
      "_________________________________________________________________\n",
      "Layer (type)                 Output Shape              Param #   \n",
      "=================================================================\n",
      "conv2d_2 (Conv2D)            (None, 28, 28, 32)        832       \n",
      "_________________________________________________________________\n",
      "max_pooling2d_2 (MaxPooling2 (None, 14, 14, 32)        0         \n",
      "_________________________________________________________________\n",
      "conv2d_3 (Conv2D)            (None, 14, 14, 64)        8256      \n",
      "_________________________________________________________________\n",
      "max_pooling2d_3 (MaxPooling2 (None, 7, 7, 64)          0         \n",
      "_________________________________________________________________\n",
      "dropout (Dropout)            (None, 7, 7, 64)          0         \n",
      "_________________________________________________________________\n",
      "flatten (Flatten)            (None, 3136)              0         \n",
      "_________________________________________________________________\n",
      "dense (Dense)                (None, 1000)              3137000   \n",
      "_________________________________________________________________\n",
      "dropout_1 (Dropout)          (None, 1000)              0         \n",
      "_________________________________________________________________\n",
      "dense_1 (Dense)              (None, 10)                10010     \n",
      "=================================================================\n",
      "Total params: 3,156,098\n",
      "Trainable params: 3,156,098\n",
      "Non-trainable params: 0\n",
      "_________________________________________________________________\n",
      "Epoch 1/3\n",
      "469/469 [==============================] - 29s 61ms/step - loss: 0.1899 - accuracy: 0.9418 - val_loss: 0.0542 - val_accuracy: 0.9805\n",
      "Epoch 2/3\n",
      "469/469 [==============================] - 29s 62ms/step - loss: 0.0625 - accuracy: 0.9805 - val_loss: 0.0374 - val_accuracy: 0.9883\n",
      "Epoch 3/3\n",
      "469/469 [==============================] - 29s 63ms/step - loss: 0.0453 - accuracy: 0.9850 - val_loss: 0.0274 - val_accuracy: 0.9897\n",
      "test loss: 0.02741069719195366\n",
      "test accuracy: 0.9897000193595886\n"
     ]
    }
   ],
   "source": [
    "# 필요한 모듈 임포트\n",
    "import sys\n",
    "import tensorflow as tf\n",
    "import keras\n",
    "from keras.models import Sequential\n",
    "from keras.layers import Dense, Dropout, Flatten\n",
    "from keras.layers.convolutional import Conv2D, MaxPooling2D\n",
    "import numpy as np\n",
    "\n",
    "# 데이터셋\n",
    "(X_train, y_train), (X_test, y_test) = keras.datasets.mnist.load_data()\n",
    "\n",
    "# 학습하기 쉽도록 데이터셋 조정.\n",
    "input_shape = (28, 28, 1)\n",
    "X_train = X_train.reshape(X_train.shape[0], 28, 28, 1)\n",
    "X_test = X_test.reshape(X_test.shape[0], 28, 28, 1)\n",
    "\n",
    "X_train = X_train.astype(\"float32\") / 255.  # 0 ~ 255 였던 범위를 0 ~ 1 로 축소.\n",
    "X_test = X_test.astype(\"float32\") / 255. # 0 ~ 255 였던 범위를 0 ~ 1 로 축소.\n",
    "\n",
    "print(X_train.shape[0], X_test.shape[0])\n",
    "\n",
    "batch_size = 128  # 몇번씩 나눠서 학습할지.\n",
    "num_classes = 10  # 0 ~ 9 까지 라벨이 있음으로 10.\n",
    "epochs = 3  # 반복학습 횟수.\n",
    "\n",
    "y_train = keras.utils.to_categorical(y_train, num_classes)  # 카테고리컬\n",
    "y_test = keras.utils.to_categorical(y_test, num_classes)  # 카테고리컬\n",
    "\n",
    "# 모델링\n",
    "model = Sequential()\n",
    "model.add(Conv2D(32, kernel_size=(5, 5), strides=(1, 1), padding=\"same\", activation=\"relu\", input_shape = input_shape))\n",
    "model.add(MaxPooling2D(pool_size=(2, 2), strides=(2, 2)))\n",
    "model.add(Conv2D(64, (2, 2), activation=\"relu\", padding=\"same\"))\n",
    "model.add(MaxPooling2D(pool_size=(2, 2)))\n",
    "model.add(Dropout(0.25))\n",
    "model.add(Flatten())\n",
    "model.add(Dense(1000, activation=\"relu\"))\n",
    "model.add(Dropout(0.5))\n",
    "model.add(Dense(num_classes, activation=\"softmax\"))\n",
    "model.summary()\n",
    "\n",
    "# 학습\n",
    "model.compile(loss=\"categorical_crossentropy\", optimizer=\"adam\", metrics=[\"accuracy\"])\n",
    "history = model.fit(X_train, y_train, batch_size=batch_size, epochs=epochs, verbose=1, validation_data=(X_test, y_test))\n",
    "\n",
    "# 평가\n",
    "score = model.evaluate(X_test, y_test, verbose=0)\n",
    "print(\"test loss:\", score[0])\n",
    "print('test accuracy:', score[1])"
   ]
  },
  {
   "cell_type": "code",
   "execution_count": 16,
   "metadata": {},
   "outputs": [
    {
     "name": "stdout",
     "output_type": "stream",
     "text": [
      "accuracy score is 0.9897\n"
     ]
    }
   ],
   "source": [
    "from sklearn.metrics import accuracy_score\n",
    "\n",
    "predicted_result = model.predict(X_test)  # 예측 결과 (softmax 로 나옴.)\n",
    "predicted_labels = np.argmax(predicted_result, axis=1)  # (max 값의 인덱스)\n",
    "\n",
    "test_labels = np.argmax(y_test, axis=1)  # y 데이터가 원핫인코딩으로 카테고리컬 되었음으로, max 값으로 인덱스를 찾음.\n",
    "\n",
    "\n",
    "print(\"accuracy score is\", accuracy_score(test_labels.reshape(-1, 1), predicted_labels.reshape(-1, 1)))"
   ]
  }
 ],
 "metadata": {
  "kernelspec": {
   "display_name": "Python 3",
   "language": "python",
   "name": "python3"
  },
  "language_info": {
   "codemirror_mode": {
    "name": "ipython",
    "version": 3
   },
   "file_extension": ".py",
   "mimetype": "text/x-python",
   "name": "python",
   "nbconvert_exporter": "python",
   "pygments_lexer": "ipython3",
   "version": "3.8.1"
  }
 },
 "nbformat": 4,
 "nbformat_minor": 4
}
